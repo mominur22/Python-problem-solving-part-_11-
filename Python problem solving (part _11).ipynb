{
 "cells": [
  {
   "cell_type": "markdown",
   "id": "0634c580",
   "metadata": {},
   "source": [
    "# Python problem solving (part _11)"
   ]
  },
  {
   "cell_type": "markdown",
   "id": "de382a98",
   "metadata": {},
   "source": [
    "# 64. Nested List Concatenation: Given a list of nested lists, write a Python program to concatenate all the sublists into a single flat list."
   ]
  },
  {
   "cell_type": "code",
   "execution_count": null,
   "id": "78ad78cd",
   "metadata": {},
   "outputs": [],
   "source": [
    "def flatten_nested_lists(nested_list):\n",
    "    flat_list = [item for sublist in nested_list for item in sublist]\n",
    "    return flat_list\n",
    "input_nested_lists = input(\"Enter a list of nested lists separated by spaces: \")\n",
    "nested_lists = eval(input_nested_lists)\n",
    "\n",
    "# Flatten the nested lists\n",
    "flat_result = flatten_nested_lists(nested_lists)\n",
    "print(\"Flattened List:\")\n",
    "print(flat_result)"
   ]
  },
  {
   "cell_type": "markdown",
   "id": "c695f5b1",
   "metadata": {},
   "source": [
    "# 65. Count Even Numbers: Write a Python program to count the number of even numbers in a nested list."
   ]
  },
  {
   "cell_type": "code",
   "execution_count": null,
   "id": "204f69f4",
   "metadata": {},
   "outputs": [],
   "source": [
    "# list of numbers\n",
    "list1 = [10, 21, 4, 45, 66, 93, 1]\n",
    " \n",
    "even_count, odd_count = 0, 0\n",
    " \n",
    "for num in list1:\n",
    " \n",
    "    if num % 2 == 0:\n",
    "        even_count += 1\n",
    "    else:\n",
    "        odd_count += 1\n",
    "print(\"Even numbers in the list: \", even_count)\n",
    "print(\"Odd numbers in the list: \", odd_count)"
   ]
  },
  {
   "cell_type": "markdown",
   "id": "5c22a489",
   "metadata": {},
   "source": [
    "# 66. Maximum Element in Nested List: Write a Python program to find the maximum element in a nested list of integers."
   ]
  },
  {
   "cell_type": "code",
   "execution_count": null,
   "id": "31b5cc02",
   "metadata": {},
   "outputs": [],
   "source": [
    "def find_maximum_nested_list(nested_list):\n",
    "    max_element = float('-inf')  \n",
    "    for sublist in nested_list:\n",
    "        for element in sublist:\n",
    "            if element > max_element:\n",
    "                max_element = element\n",
    "    return max_element\n",
    "input_nested_list = input(\"Enter a nested list of integers separated by spaces: \")\n",
    "nested_list = eval(input_nested_list) \n",
    "max_element = find_maximum_nested_list(nested_list)\n",
    "print(\"Maximum Element in the Nested List:\", max_element)"
   ]
  },
  {
   "cell_type": "markdown",
   "id": "9f2b4edf",
   "metadata": {},
   "source": [
    "# 67. Diagonal Sum of Matrix: Given a square matrix represented as a nested list, write a Python program to calculate the sum of the elements in the main diagonal."
   ]
  },
  {
   "cell_type": "code",
   "execution_count": null,
   "id": "00783ca6",
   "metadata": {},
   "outputs": [],
   "source": [
    "MAX = 100\n",
    " \n",
    "def printDiagonalSums(mat, n):\n",
    " \n",
    "    principal = 0\n",
    "    secondary = 0;\n",
    "    for i in range(0, n): \n",
    "        for j in range(0, n): \n",
    "            # Condition for principal diagonal\n",
    "            if (i == j):\n",
    "                principal += mat[i][j]\n",
    " \n",
    "            # Condition for secondary diagonal\n",
    "            if ((i + j) == (n - 1)):\n",
    "                secondary += mat[i][j]\n",
    "         \n",
    "    print(\"Principal Diagonal:\", principal)\n",
    "    print(\"Secondary Diagonal:\", secondary)\n",
    " \n",
    "# Driver code\n",
    "a = [[ 1, 2, 3, 4 ],\n",
    "     [ 5, 6, 7, 8 ], \n",
    "     [ 1, 2, 3, 4 ],\n",
    "      [ 5, 6, 7, 8 ]]\n",
    "printDiagonalSums(a, 4)\n",
    " "
   ]
  },
  {
   "cell_type": "markdown",
   "id": "50a3dda7",
   "metadata": {},
   "source": [
    "# 68. Nested List Element Search: Write a Python program to search for a specific element in a nested list and return its position (row and column indices)."
   ]
  },
  {
   "cell_type": "code",
   "execution_count": null,
   "id": "4dd625ff",
   "metadata": {},
   "outputs": [],
   "source": [
    "def find_element_position(nested_list, target_element):\n",
    "    for i, row in enumerate(nested_list):\n",
    "        for j, element in enumerate(row):\n",
    "            if element == target_element:\n",
    "                return i, j  \n",
    "\n",
    "    return None  \n",
    "\n",
    "input_nested_list = input(\"Enter a nested list of elements separated by spaces: \")\n",
    "nested_list = eval(input_nested_list)  \n",
    "target_element = int(input(\"Enter the element to search for: \"))\n",
    "position = find_element_position(nested_list, target_element)\n",
    "if position is not None:\n",
    "    print(f\"Element {target_element} found at position (row, column): {position}\")\n",
    "else:\n",
    "    print(f\"Element {target_element} not found in the nested list.\")"
   ]
  },
  {
   "cell_type": "code",
   "execution_count": null,
   "id": "eeb82a9e",
   "metadata": {},
   "outputs": [],
   "source": []
  }
 ],
 "metadata": {
  "kernelspec": {
   "display_name": "Python 3 (ipykernel)",
   "language": "python",
   "name": "python3"
  },
  "language_info": {
   "codemirror_mode": {
    "name": "ipython",
    "version": 3
   },
   "file_extension": ".py",
   "mimetype": "text/x-python",
   "name": "python",
   "nbconvert_exporter": "python",
   "pygments_lexer": "ipython3",
   "version": "3.11.5"
  }
 },
 "nbformat": 4,
 "nbformat_minor": 5
}
